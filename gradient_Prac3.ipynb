{
 "cells": [
  {
   "cell_type": "markdown",
   "id": "adae763a-66d4-43dc-b445-9613429c0367",
   "metadata": {},
   "source": [
    "Implement Gradient Descent Algorithm to find the local minima of a function. For\n",
    "example, find the local minima of the function y=(x+3)² starting from the point x=2."
   ]
  },
  {
   "cell_type": "code",
   "execution_count": 2,
   "id": "2a412a01-5a73-4ac4-9da9-958d20579b8f",
   "metadata": {},
   "outputs": [],
   "source": [
    "import numpy as np\n",
    "import matplotlib.pyplot as plt"
   ]
  },
  {
   "cell_type": "code",
   "execution_count": 8,
   "id": "ff145723-ab27-4f64-9a3e-cb1ef4c778e9",
   "metadata": {},
   "outputs": [],
   "source": [
    "# Define the function and its gradient\n",
    "def function(x):\n",
    "    return (x + 3)**2\n",
    "\n",
    "def gradient(x):\n",
    "    return 2 * (x + 3)"
   ]
  },
  {
   "cell_type": "code",
   "execution_count": 10,
   "id": "c13e29c5-03fe-4f84-87d8-02ba6cc1d26c",
   "metadata": {},
   "outputs": [],
   "source": [
    "# Gradient Descent function\n",
    "def gradient_descent(starting_point, learning_rate, num_iterations):\n",
    "    x = starting_point  # Start at the given point\n",
    "    x_values = [x]  # Store x values for plotting\n",
    "    y_values = [function(x)]  # Store function values for plotting\n",
    "\n",
    "    for i in range(num_iterations):\n",
    "        grad = gradient(x)  # Calculate the gradient\n",
    "        x = x - learning_rate * grad  # Update x value\n",
    "        x_values.append(x)\n",
    "        y_values.append(function(x))\n",
    "\n",
    "    return x, x_values, y_values"
   ]
  },
  {
   "cell_type": "code",
   "execution_count": 12,
   "id": "e462467b-ebaa-402b-91c9-4878731b6ff1",
   "metadata": {},
   "outputs": [],
   "source": [
    "# Parameters\n",
    "starting_point = 2  # Start at x = 2\n",
    "learning_rate = 0.1  # Learning rate\n",
    "num_iterations = 50  # Number of iterations"
   ]
  },
  {
   "cell_type": "code",
   "execution_count": 14,
   "id": "4ac24b61-2d97-464e-8334-0ec0836bbd52",
   "metadata": {},
   "outputs": [],
   "source": [
    "# Run Gradient Descent\n",
    "final_x, x_values, y_values = gradient_descent(starting_point, learning_rate, num_iterations)"
   ]
  },
  {
   "cell_type": "code",
   "execution_count": 16,
   "id": "c91c2c12-6246-4a2b-beea-02c8f45b6967",
   "metadata": {},
   "outputs": [
    {
     "name": "stdout",
     "output_type": "stream",
     "text": [
      "Local minimum occurs at x = -2.9999286376153647\n"
     ]
    }
   ],
   "source": [
    "# Print the final result\n",
    "print(f\"Local minimum occurs at x = {final_x}\")"
   ]
  },
  {
   "cell_type": "code",
   "execution_count": null,
   "id": "633d2012-f79f-43c3-bb0f-891c51264594",
   "metadata": {},
   "outputs": [],
   "source": []
  }
 ],
 "metadata": {
  "kernelspec": {
   "display_name": "Python 3 (ipykernel)",
   "language": "python",
   "name": "python3"
  },
  "language_info": {
   "codemirror_mode": {
    "name": "ipython",
    "version": 3
   },
   "file_extension": ".py",
   "mimetype": "text/x-python",
   "name": "python",
   "nbconvert_exporter": "python",
   "pygments_lexer": "ipython3",
   "version": "3.12.7"
  }
 },
 "nbformat": 4,
 "nbformat_minor": 5
}
